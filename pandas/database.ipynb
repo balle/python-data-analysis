{
 "cells": [
  {
   "cell_type": "code",
   "execution_count": 2,
   "metadata": {},
   "outputs": [
    {
     "name": "stdout",
     "output_type": "stream",
     "text": [
      "   Sale_ID   Sale_Date                Description  Customer_ID  Product_ID  \\\n",
      "0        1  12/31/2014       Purchased from Store            2           2   \n",
      "1        2   1/15/2015             Phone Purchase            1           1   \n",
      "2        3   6/14/2015          Internet Purchase            3           3   \n",
      "3        4  11/11/2015  Sales Convention Purchase            3           3   \n",
      "4        5   4/18/2016          Internet Purchase            4           1   \n",
      "5        6  10/15/2016       Purchased from Store            5           1   \n",
      "6        7   3/17/2017          Internet Purchase            4           1   \n",
      "7        8   6/15/2018       Purchased from Store            3           3   \n",
      "8        9   5/25/2019          Internet Purchase            1           3   \n",
      "9       10    6/9/2019          Internet Purchase            2           3   \n",
      "\n",
      "   Sales_Amount  Sales_Quantity  \n",
      "0            20               1  \n",
      "1            30               2  \n",
      "2             5               1  \n",
      "3           500             100  \n",
      "4            20               2  \n",
      "5            20               1  \n",
      "6            20               1  \n",
      "7             5               1  \n",
      "8            10               2  \n",
      "9            10               2  \n"
     ]
    }
   ],
   "source": [
    "import sqlite3\n",
    "import pandas as pd\n",
    "\n",
    "conn = sqlite3.connect(\"data/customer_sales.db\")\n",
    "data = pd.read_sql_query(\"SELECT * FROM tbl_sales;\", conn)\n",
    "print(data)"
   ]
  }
 ],
 "metadata": {
  "interpreter": {
   "hash": "e7370f93d1d0cde622a1f8e1c04877d8463912d04d973331ad4851f04de6915a"
  },
  "kernelspec": {
   "display_name": "Python 3.10.2 64-bit",
   "language": "python",
   "name": "python3"
  },
  "language_info": {
   "codemirror_mode": {
    "name": "ipython",
    "version": 3
   },
   "file_extension": ".py",
   "mimetype": "text/x-python",
   "name": "python",
   "nbconvert_exporter": "python",
   "pygments_lexer": "ipython3",
   "version": "3.10.2"
  },
  "orig_nbformat": 4
 },
 "nbformat": 4,
 "nbformat_minor": 2
}
