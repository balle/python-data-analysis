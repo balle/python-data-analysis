{
 "cells": [
  {
   "cell_type": "code",
   "execution_count": 16,
   "metadata": {},
   "outputs": [
    {
     "name": "stdout",
     "output_type": "stream",
     "text": [
      "(1704, 3)\n",
      "Describe:              year    population\n",
      "count  1704.00000  1.704000e+03\n",
      "mean   1979.50000  2.960121e+07\n",
      "std      17.26533  1.061579e+08\n",
      "min    1952.00000  6.001100e+04\n",
      "25%    1965.75000  2.793664e+06\n",
      "50%    1979.50000  7.023596e+06\n",
      "75%    1993.25000  1.958522e+07\n",
      "max    2007.00000  1.318683e+09\n",
      "\n",
      "       country  year  population\n",
      "0  Afghanistan  1952     8425333\n",
      "1  Afghanistan  1957     9240934\n"
     ]
    },
    {
     "data": {
      "text/plain": [
       "country\n",
       "Afghanistan           1.582372e+07\n",
       "Albania               2.580249e+06\n",
       "Algeria               1.987541e+07\n",
       "Angola                7.309390e+06\n",
       "Argentina             2.860224e+07\n",
       "                          ...     \n",
       "Vietnam               5.456857e+07\n",
       "West Bank and Gaza    1.848606e+06\n",
       "Yemen, Rep.           1.084319e+07\n",
       "Zambia                6.353805e+06\n",
       "Zimbabwe              7.641966e+06\n",
       "Name: population, Length: 142, dtype: float64"
      ]
     },
     "execution_count": 16,
     "metadata": {},
     "output_type": "execute_result"
    }
   ],
   "source": [
    "import pandas as pd \n",
    "data = pd.read_csv(\"data/countries.csv\")\n",
    "print(data.shape)\n",
    "print(\"Describe: \" + str(data.describe()) + \"\\n\")\n",
    "print(data.head(2))\n",
    "# data.groupby(['country']).agg({'year':'count'})\n",
    "data.groupby(['country'])['population'].mean()"
   ]
  }
 ],
 "metadata": {
  "interpreter": {
   "hash": "e7370f93d1d0cde622a1f8e1c04877d8463912d04d973331ad4851f04de6915a"
  },
  "kernelspec": {
   "display_name": "Bash",
   "language": "python",
   "name": "python3"
  },
  "language_info": {
   "codemirror_mode": {
    "name": "ipython",
    "version": 3
   },
   "file_extension": ".py",
   "mimetype": "text/x-python",
   "name": "python",
   "nbconvert_exporter": "python",
   "pygments_lexer": "ipython3",
   "version": "3.10.2"
  },
  "orig_nbformat": 4
 },
 "nbformat": 4,
 "nbformat_minor": 2
}
